{
 "cells": [
  {
   "cell_type": "code",
   "execution_count": 1,
   "id": "a1379fd4",
   "metadata": {},
   "outputs": [
    {
     "name": "stdout",
     "output_type": "stream",
     "text": [
      "Starting Spark application\n"
     ]
    },
    {
     "data": {
      "text/html": [
       "<table>\n",
       "<tr><th>ID</th><th>YARN Application ID</th><th>Kind</th><th>State</th><th>Spark UI</th><th>Driver log</th><th>User</th><th>Current session?</th></tr><tr><td>3</td><td>application_1693866466115_0007</td><td>pyspark</td><td>idle</td><td><a target=\"_blank\" href=\"http://ip-172-31-83-86.ec2.internal:20888/proxy/application_1693866466115_0007/\">Link</a></td><td><a target=\"_blank\" href=\"http://ip-172-31-84-125.ec2.internal:8042/node/containerlogs/container_1693866466115_0007_01_000001/livy\">Link</a></td><td>None</td><td>✔</td></tr></table>"
      ],
      "text/plain": [
       "<IPython.core.display.HTML object>"
      ]
     },
     "metadata": {},
     "output_type": "display_data"
    },
    {
     "data": {
      "application/vnd.jupyter.widget-view+json": {
       "model_id": "4e06ca01c96947a192b9efc1efc913ad",
       "version_major": 2,
       "version_minor": 0
      },
      "text/plain": [
       "FloatProgress(value=0.0, bar_style='info', description='Progress:', layout=Layout(height='25px', width='50%'),…"
      ]
     },
     "metadata": {},
     "output_type": "display_data"
    },
    {
     "name": "stdout",
     "output_type": "stream",
     "text": [
      "SparkSession available as 'spark'.\n"
     ]
    },
    {
     "data": {
      "application/vnd.jupyter.widget-view+json": {
       "model_id": "0d8cfcd2dcba41908758e7cff8736ca8",
       "version_major": 2,
       "version_minor": 0
      },
      "text/plain": [
       "FloatProgress(value=0.0, bar_style='info', description='Progress:', layout=Layout(height='25px', width='50%'),…"
      ]
     },
     "metadata": {},
     "output_type": "display_data"
    },
    {
     "name": "stdout",
     "output_type": "stream",
     "text": [
      "<pyspark.sql.session.SparkSession object at 0x7ff223adce10>"
     ]
    }
   ],
   "source": [
    "spark"
   ]
  },
  {
   "cell_type": "code",
   "execution_count": 2,
   "id": "e168583a",
   "metadata": {},
   "outputs": [
    {
     "data": {
      "application/vnd.jupyter.widget-view+json": {
       "model_id": "92c7d38083ce4343a151217bb14aa38e",
       "version_major": 2,
       "version_minor": 0
      },
      "text/plain": [
       "FloatProgress(value=0.0, bar_style='info', description='Progress:', layout=Layout(height='25px', width='50%'),…"
      ]
     },
     "metadata": {},
     "output_type": "display_data"
    }
   ],
   "source": [
    "spark.catalog.setCurrentDatabase(\"clima_colombia_hive\")"
   ]
  },
  {
   "cell_type": "code",
   "execution_count": 3,
   "id": "6aaad0b8",
   "metadata": {},
   "outputs": [
    {
     "data": {
      "application/vnd.jupyter.widget-view+json": {
       "model_id": "1b642a2e97ee4392970200ea46439aaa",
       "version_major": 2,
       "version_minor": 0
      },
      "text/plain": [
       "FloatProgress(value=0.0, bar_style='info', description='Progress:', layout=Layout(height='25px', width='50%'),…"
      ]
     },
     "metadata": {},
     "output_type": "display_data"
    },
    {
     "name": "stdout",
     "output_type": "stream",
     "text": [
      "+---------------+--------------------+-----------+--------------------+------------------+--------------+----------------+\n",
      "|codigo_estacion|               fecha|temperatura|     nombre_estacion|      departamento|     municipio|            zona|\n",
      "+---------------+--------------------+-----------+--------------------+------------------+--------------+----------------+\n",
      "|       23025502|01/01/2023 12:00:...|   1.888466|ALMACAFE LETRAS  ...|            CALDAS|     MANIZALES| MEDIO MAGDALENA|\n",
      "|       26125509|01/01/2023 12:00:...|   15.24925| ESPERANZA LA  - AUT|           QUINDÍO|         PIJAO|           CAUCA|\n",
      "|       26165501|01/01/2023 12:00:...|   15.46122|    EL CIPRES  - AUT|            CALDAS|      SALAMINA|           CAUCA|\n",
      "|       52055501|01/01/2023 12:00:...|   15.26959| OSPINA PEREZ  - AUT|            NARIÑO|       CONSACÁ|           PATÍA|\n",
      "|       26135503|01/01/2023 12:00:...|   17.76134|     NARANJAL  - AUT|            CALDAS|     CHINCHINA|           CAUCA|\n",
      "|       44055010|01/01/2023 12:00:...|       21.8|       TRES ESQUINAS|           CAQUETA|        SOLANO|         CAQUETÁ|\n",
      "|       16015501|01/01/2023 12:00:...|       23.9|    APTO CAMILO DAZA|NORTE DE SANTANDER|        CÚCUTA|       CATATUMBO|\n",
      "|       21165501|01/01/2023 12:00:...|   16.19377|      DOLORES  - AUT|            TOLIMA|       DOLORES|  ALTO MAGDALENA|\n",
      "|       16025501|01/01/2023 12:00:...|   17.98149|    CUCUTILLA  - AUT|NORTE DE SANTANDER|     CUCUTILLA|       CATATUMBO|\n",
      "|       21205791|01/01/2023 12:00:...|       12.4|APTO EL DORADO - ...|       BOGOTA D.C.|   BOGOTA, D.C|  ALTO MAGDALENA|\n",
      "|       26125505|01/01/2023 12:00:...|   16.56269|     LA BELLA  - AUT|           QUINDÍO|       CALARCÁ|           CAUCA|\n",
      "|       29045110|01/01/2023 12:00:...|       25.6|    JUAN DE ACOSANTA|         ATLANTICO|JUAN DE ACOSTA|CARIBE - LITORAL|\n",
      "|       26175501|01/01/2023 12:00:...|   19.52354|RAFAEL ESCOBAR  -...|            CALDAS|         SUPIA|           CAUCA|\n",
      "|       27015330|01/01/2023 12:00:...|       19.3|APTO OLAYA HERRER...|         ANTIOQUIA|      MEDELLÍN|           NECHÍ|\n",
      "|       26135501|01/01/2023 12:00:...|   19.91131|    EL PILAMO  - AUT|         RISARALDA|       PEREIRA|           CAUCA|\n",
      "|       23025501|01/01/2023 12:00:...|   17.44153|   MANZANARES  - AUT|            CALDAS|    MANZANARES| MEDIO MAGDALENA|\n",
      "|       35215020|01/01/2023 12:00:...|       25.1|          APTO YOPAL|          CASANARE|         YOPAL|            META|\n",
      "|       28015070|01/01/2023 12:00:...|       24.3|             URUMITA|        LA GUAJIRA|       URUMITA|           CESAR|\n",
      "|       21185501|01/01/2023 12:00:...|   18.05799|       ROVIRA  - AUT|            TOLIMA|        ROVIRA|  ALTO MAGDALENA|\n",
      "|       11025501|01/01/2023 12:00:...|   15.81241|CARMEN DE ATRATO ...|             CHOCO|     EL CARMEN| ATRATO - DARIÉN|\n",
      "+---------------+--------------------+-----------+--------------------+------------------+--------------+----------------+\n",
      "only showing top 20 rows"
     ]
    }
   ],
   "source": [
    "df_temperatura = spark.sql(\"select * from temperatura\")\n",
    "df_temperatura.show()"
   ]
  },
  {
   "cell_type": "code",
   "execution_count": 4,
   "id": "c45ae5df",
   "metadata": {},
   "outputs": [
    {
     "data": {
      "application/vnd.jupyter.widget-view+json": {
       "model_id": "e7814712873243238dd2216e082cd610",
       "version_major": 2,
       "version_minor": 0
      },
      "text/plain": [
       "FloatProgress(value=0.0, bar_style='info', description='Progress:', layout=Layout(height='25px', width='50%'),…"
      ]
     },
     "metadata": {},
     "output_type": "display_data"
    },
    {
     "name": "stdout",
     "output_type": "stream",
     "text": [
      "+---------------+--------------------+--------+--------------------+---------------+---------------+--------------------+\n",
      "|codigo_estacion|               fecha| humedad|     nombre_estacion|   departamento|      municipio|                zona|\n",
      "+---------------+--------------------+--------+--------------------+---------------+---------------+--------------------+\n",
      "|       26155110|01/01/2023 12:00:...|   100.0| AEROPUERTO LA NUBIA|         CALDAS|      MANIZALES|               CAUCA|\n",
      "|       26155503|01/01/2023 12:00:...|93.75574|     PLANALTO  - AUT|         CALDAS|      MANIZALES|               CAUCA|\n",
      "|     3502500135|01/01/2023 12:00:...|    97.0|GUAYABETAL POLLO ...|   CUNDINAMARCA|     GUAYABETAL|                META|\n",
      "|       26115501|01/01/2023 12:00:...|88.35087|MANUEL MARIA MALL...|VALLE DEL CAUCA|       TRUJILLO|               CAUCA|\n",
      "|       28025502|01/01/2023 12:00:...|    82.0|  APTO ALFONSO LOPEZ|          CESAR|     VALLEDUPAR|               CESAR|\n",
      "|       21255501|01/01/2023 12:00:...|86.15457|  LA TRINIDAD  - AUT|         TOLIMA|         LÍBANO|      ALTO MAGDALENA|\n",
      "|       35215020|01/01/2023 12:00:...|    76.0|          APTO YOPAL|       CASANARE|          YOPAL|                META|\n",
      "|       52055090|01/01/2023 12:00:...|   100.0|            SINDAGUA|         NARIÑO|         TANGUA|               PATÍA|\n",
      "|       28025090|01/01/2023 12:00:...|    90.0| CENTENARIO HACIENDA|          CESAR|AGUSTÍN CODAZZI|               CESAR|\n",
      "|       26135503|01/01/2023 12:00:...|94.90614|     NARANJAL  - AUT|         CALDAS|      CHINCHINA|               CAUCA|\n",
      "|       24025501|01/01/2023 12:00:...|     0.0|ALBERTO SANTOS  -...|      SANTANDER|        SOCORRO|            SOGAMOSO|\n",
      "|       53115501|01/01/2023 12:00:...|96.54922|        DAGUA  - AUT|VALLE DEL CAUCA|          DAGUA|TAPAJE - DAGUA - ...|\n",
      "|       26185501|01/01/2023 12:00:...|91.19857|       SONSON  - AUT|      ANTIOQUIA|         SONSÓN|               CAUCA|\n",
      "|       24015503|01/01/2023 12:00:...|96.96177|     CONFINES  - AUT|      SANTANDER|       CONFINES|            SOGAMOSO|\n",
      "|       21215501|01/01/2023 12:00:...|98.78912| ESPERANZA LA  - AUT|         TOLIMA|         IBAGUÉ|      ALTO MAGDALENA|\n",
      "|       26125504|01/01/2023 12:00:...| 98.7169| PARAGUAICITO  - AUT|        QUINDÍO|     BUENAVISTA|               CAUCA|\n",
      "|       52050080|01/01/2023 12:00:...|   100.0|              TANGUA|         NARIÑO|         TANGUA|               PATÍA|\n",
      "|       11025501|01/01/2023 12:00:...|93.87606|CARMEN DE ATRATO ...|          CHOCO|      EL CARMEN|     ATRATO - DARIÉN|\n",
      "|       26085501|01/01/2023 12:00:...|97.17397|     LA CELIA  - AUT|      RISARALDA|       LA CELIA|               CAUCA|\n",
      "|       22025501|01/01/2023 12:00:...|95.22781|        ATACO  - AUT|         TOLIMA|          ATACO|             SALDAÑA|\n",
      "+---------------+--------------------+--------+--------------------+---------------+---------------+--------------------+\n",
      "only showing top 20 rows"
     ]
    }
   ],
   "source": [
    "df_humedad = spark.sql(\"select * from humedad\")\n",
    "df_humedad.show()"
   ]
  },
  {
   "cell_type": "code",
   "execution_count": 5,
   "id": "df5741c9",
   "metadata": {},
   "outputs": [
    {
     "data": {
      "application/vnd.jupyter.widget-view+json": {
       "model_id": "dd10df3932884ac89bbfcc0b2cbe39c5",
       "version_major": 2,
       "version_minor": 0
      },
      "text/plain": [
       "FloatProgress(value=0.0, bar_style='info', description='Progress:', layout=Layout(height='25px', width='50%'),…"
      ]
     },
     "metadata": {},
     "output_type": "display_data"
    },
    {
     "name": "stdout",
     "output_type": "stream",
     "text": [
      "+--------------------+-----------+--------+------------+--------------+\n",
      "|               fecha|temperatura| humedad|departamento|     municipio|\n",
      "+--------------------+-----------+--------+------------+--------------+\n",
      "|01/01/2023 12:00:...|   15.24925|99.97609|     QUINDÍO|         PIJAO|\n",
      "|01/01/2023 12:00:...|   17.76134|94.90614|      CALDAS|     CHINCHINA|\n",
      "|01/01/2023 12:00:...|       21.8|     0.0|     CAQUETA|        SOLANO|\n",
      "|01/01/2023 12:00:...|   16.19377| 81.2429|      TOLIMA|       DOLORES|\n",
      "|01/01/2023 12:00:...|   16.56269|99.40285|     QUINDÍO|       CALARCÁ|\n",
      "|01/01/2023 12:00:...|       25.6|    88.0|   ATLANTICO|JUAN DE ACOSTA|\n",
      "|01/01/2023 12:00:...|   19.52354|93.56641|      CALDAS|         SUPIA|\n",
      "|01/01/2023 12:00:...|       19.3|    93.0|   ANTIOQUIA|      MEDELLÍN|\n",
      "|01/01/2023 12:00:...|   19.91131|84.35571|   RISARALDA|       PEREIRA|\n",
      "|01/01/2023 12:00:...|   17.44153|77.66421|      CALDAS|    MANZANARES|\n",
      "|01/01/2023 12:00:...|       25.1|    76.0|    CASANARE|         YOPAL|\n",
      "|01/01/2023 12:00:...|       24.3|    88.0|  LA GUAJIRA|       URUMITA|\n",
      "|01/01/2023 12:00:...|   18.05799|98.82235|      TOLIMA|        ROVIRA|\n",
      "|01/01/2023 12:00:...|   15.81241|93.87606|       CHOCO|     EL CARMEN|\n",
      "|01/01/2023 12:00:...|   21.81203|72.13012|        META|      LEJANÍAS|\n",
      "|01/01/2023 12:00:...|   19.47426|87.52951|    CASANARE|        TÁMARA|\n",
      "|01/01/2023 12:00:...|   16.13281|99.97234|      BOYACÁ|     MONIQUIRÁ|\n",
      "|01/01/2023 12:00:...|   18.23873|91.48903|       HUILA|       GIGANTE|\n",
      "|01/01/2023 12:00:...|       24.9|    82.0|       CESAR|    VALLEDUPAR|\n",
      "|01/01/2023 12:00:...|   18.07219|97.68619|      TOLIMA|      PLANADAS|\n",
      "+--------------------+-----------+--------+------------+--------------+\n",
      "only showing top 20 rows"
     ]
    }
   ],
   "source": [
    "df = spark.sql(\"SELECT temperatura.fecha, temperatura.temperatura, humedad.humedad, temperatura.departamento, temperatura.municipio FROM temperatura JOIN humedad ON temperatura.fecha = humedad.fecha AND temperatura.codigo_estacion = humedad.codigo_estacion\")\n",
    "df.show()"
   ]
  },
  {
   "cell_type": "code",
   "execution_count": null,
   "id": "55359300",
   "metadata": {},
   "outputs": [],
   "source": []
  }
 ],
 "metadata": {
  "kernelspec": {
   "display_name": "PySpark",
   "language": "python",
   "name": "pysparkkernel"
  },
  "language_info": {
   "codemirror_mode": {
    "name": "python",
    "version": 3
   },
   "file_extension": ".py",
   "mimetype": "text/x-python",
   "name": "pyspark",
   "pygments_lexer": "python3"
  }
 },
 "nbformat": 4,
 "nbformat_minor": 5
}
